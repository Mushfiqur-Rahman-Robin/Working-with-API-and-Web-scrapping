{
  "nbformat": 4,
  "nbformat_minor": 0,
  "metadata": {
    "colab": {
      "name": "YouTube API: Get_the_most_popular_videoes_of_a_playlist",
      "provenance": []
    },
    "kernelspec": {
      "name": "python3",
      "display_name": "Python 3"
    },
    "language_info": {
      "name": "python"
    }
  },
  "cells": [
    {
      "cell_type": "code",
      "metadata": {
        "id": "DpvRoIuHBI_T"
      },
      "source": [
        "YOURAPIKEY = 'XXXXXXXXXXXXXXXXXXXXXXXXXXXXXXX' # Use your own API key"
      ],
      "execution_count": 1,
      "outputs": []
    },
    {
      "cell_type": "code",
      "metadata": {
        "colab": {
          "base_uri": "https://localhost:8080/"
        },
        "id": "WJZB8FfTBeK8",
        "outputId": "fc9e5b3f-9c28-49ef-a778-750db6c95416"
      },
      "source": [
        "from googleapiclient.discovery import build\n",
        "\n",
        "api_key = YOURAPIKEY\n",
        "\n",
        "youtube = build('youtube', 'v3', developerKey=api_key)\n",
        "\n",
        "request = youtube.channels().list(\n",
        "        part='contentDetails, statistics',\n",
        "        id = 'UCNU_lfiiWBdtULKOw6X0Dig'\n",
        "    )\n",
        "\n",
        "response = request.execute()\n",
        "\n",
        "response"
      ],
      "execution_count": 2,
      "outputs": [
        {
          "output_type": "execute_result",
          "data": {
            "text/plain": [
              "{'etag': 'UZHP6xXOYZCxC01HG-7SmHB4dHg',\n",
              " 'items': [{'contentDetails': {'relatedPlaylists': {'likes': '',\n",
              "     'uploads': 'UUNU_lfiiWBdtULKOw6X0Dig'}},\n",
              "   'etag': 'BMNzRq8SgfbT3kL7HuSUwaHmsEo',\n",
              "   'id': 'UCNU_lfiiWBdtULKOw6X0Dig',\n",
              "   'kind': 'youtube#channel',\n",
              "   'statistics': {'hiddenSubscriberCount': False,\n",
              "    'subscriberCount': '459000',\n",
              "    'videoCount': '1224',\n",
              "    'viewCount': '35852923'}}],\n",
              " 'kind': 'youtube#channelListResponse',\n",
              " 'pageInfo': {'resultsPerPage': 5, 'totalResults': 1}}"
            ]
          },
          "metadata": {},
          "execution_count": 2
        }
      ]
    },
    {
      "cell_type": "markdown",
      "metadata": {
        "id": "iqXAGnlnBog7"
      },
      "source": [
        "# **To get the playlists**"
      ]
    },
    {
      "cell_type": "code",
      "metadata": {
        "colab": {
          "base_uri": "https://localhost:8080/"
        },
        "id": "dAZM065uBp7L",
        "outputId": "b479bda2-3f50-49a8-e449-34b078aed0c4"
      },
      "source": [
        "from googleapiclient.discovery import build\n",
        "\n",
        "api_key = YOURAPIKEY\n",
        "\n",
        "youtube = build('youtube', 'v3', developerKey=api_key)\n",
        "\n",
        "pl_request = youtube.playlists().list(\n",
        "        part='contentDetails, snippet',\n",
        "        channelId = 'UCNU_lfiiWBdtULKOw6X0Dig'\n",
        "    )\n",
        "\n",
        "pl_response = pl_request.execute()\n",
        "\n",
        "pl_response"
      ],
      "execution_count": 3,
      "outputs": [
        {
          "output_type": "execute_result",
          "data": {
            "text/plain": [
              "{'etag': 'S-Ehn9vXJ4NJ1CosHFObo-RHBhc',\n",
              " 'items': [{'contentDetails': {'itemCount': 2},\n",
              "   'etag': 'a1Neyuz1soXQlahjv3a2QwDK8Mk',\n",
              "   'id': 'PLZoTAELRMXVO7HmmSCuP_RGBX1l84Rt1_',\n",
              "   'kind': 'youtube#playlist',\n",
              "   'snippet': {'channelId': 'UCNU_lfiiWBdtULKOw6X0Dig',\n",
              "    'channelTitle': 'Krish Naik',\n",
              "    'description': '',\n",
              "    'localized': {'description': '', 'title': 'Blockchain'},\n",
              "    'publishedAt': '2021-10-11T16:22:06Z',\n",
              "    'thumbnails': {'default': {'height': 90,\n",
              "      'url': 'https://i.ytimg.com/vi/0JuRzN6T70I/default.jpg',\n",
              "      'width': 120},\n",
              "     'high': {'height': 360,\n",
              "      'url': 'https://i.ytimg.com/vi/0JuRzN6T70I/hqdefault.jpg',\n",
              "      'width': 480},\n",
              "     'maxres': {'height': 720,\n",
              "      'url': 'https://i.ytimg.com/vi/0JuRzN6T70I/maxresdefault.jpg',\n",
              "      'width': 1280},\n",
              "     'medium': {'height': 180,\n",
              "      'url': 'https://i.ytimg.com/vi/0JuRzN6T70I/mqdefault.jpg',\n",
              "      'width': 320},\n",
              "     'standard': {'height': 480,\n",
              "      'url': 'https://i.ytimg.com/vi/0JuRzN6T70I/sddefault.jpg',\n",
              "      'width': 640}},\n",
              "    'title': 'Blockchain'}},\n",
              "  {'contentDetails': {'itemCount': 5},\n",
              "   'etag': '5KaoNnNflNH70G5l8mjsnSt42Yk',\n",
              "   'id': 'PLZoTAELRMXVNi2F92wWIfb0ElJoi10q-2',\n",
              "   'kind': 'youtube#playlist',\n",
              "   'snippet': {'channelId': 'UCNU_lfiiWBdtULKOw6X0Dig',\n",
              "    'channelTitle': 'Krish Naik',\n",
              "    'description': '',\n",
              "    'localized': {'description': '',\n",
              "     'title': 'Build Android App Using ML kit and tensorflow lite'},\n",
              "    'publishedAt': '2021-09-05T13:52:50Z',\n",
              "    'thumbnails': {'default': {'height': 90,\n",
              "      'url': 'https://i.ytimg.com/vi/YjpxIzvFfpI/default.jpg',\n",
              "      'width': 120},\n",
              "     'high': {'height': 360,\n",
              "      'url': 'https://i.ytimg.com/vi/YjpxIzvFfpI/hqdefault.jpg',\n",
              "      'width': 480},\n",
              "     'maxres': {'height': 720,\n",
              "      'url': 'https://i.ytimg.com/vi/YjpxIzvFfpI/maxresdefault.jpg',\n",
              "      'width': 1280},\n",
              "     'medium': {'height': 180,\n",
              "      'url': 'https://i.ytimg.com/vi/YjpxIzvFfpI/mqdefault.jpg',\n",
              "      'width': 320},\n",
              "     'standard': {'height': 480,\n",
              "      'url': 'https://i.ytimg.com/vi/YjpxIzvFfpI/sddefault.jpg',\n",
              "      'width': 640}},\n",
              "    'title': 'Build Android App Using ML kit and tensorflow lite'}},\n",
              "  {'contentDetails': {'itemCount': 11},\n",
              "   'etag': 'vfNHC9U4HnvzHnQJHqK-Yflz_TQ',\n",
              "   'id': 'PLZoTAELRMXVMqIy62erko74zc9q6671rU',\n",
              "   'kind': 'youtube#playlist',\n",
              "   'snippet': {'channelId': 'UCNU_lfiiWBdtULKOw6X0Dig',\n",
              "    'channelTitle': 'Krish Naik',\n",
              "    'description': '',\n",
              "    'localized': {'description': '', 'title': 'Reviewing Resumes'},\n",
              "    'publishedAt': '2021-08-28T14:03:47Z',\n",
              "    'thumbnails': {'default': {'height': 90,\n",
              "      'url': 'https://i.ytimg.com/vi/cx00fY7fgqI/default.jpg',\n",
              "      'width': 120},\n",
              "     'high': {'height': 360,\n",
              "      'url': 'https://i.ytimg.com/vi/cx00fY7fgqI/hqdefault.jpg',\n",
              "      'width': 480},\n",
              "     'medium': {'height': 180,\n",
              "      'url': 'https://i.ytimg.com/vi/cx00fY7fgqI/mqdefault.jpg',\n",
              "      'width': 320}},\n",
              "    'title': 'Reviewing Resumes'}},\n",
              "  {'contentDetails': {'itemCount': 5},\n",
              "   'etag': '1myzc4FjUDYr_1Pfbzin3REAipk',\n",
              "   'id': 'PLZoTAELRMXVMbpd_KBoOY_ecwMsDy92gS',\n",
              "   'kind': 'youtube#playlist',\n",
              "   'snippet': {'channelId': 'UCNU_lfiiWBdtULKOw6X0Dig',\n",
              "    'channelTitle': 'Krish Naik',\n",
              "    'description': '',\n",
              "    'localized': {'description': '', 'title': 'Interview Questions Playlist'},\n",
              "    'publishedAt': '2021-08-14T07:52:48Z',\n",
              "    'thumbnails': {'default': {'height': 90,\n",
              "      'url': 'https://i.ytimg.com/vi/Vo2zPqyFr6c/default.jpg',\n",
              "      'width': 120},\n",
              "     'high': {'height': 360,\n",
              "      'url': 'https://i.ytimg.com/vi/Vo2zPqyFr6c/hqdefault.jpg',\n",
              "      'width': 480},\n",
              "     'maxres': {'height': 720,\n",
              "      'url': 'https://i.ytimg.com/vi/Vo2zPqyFr6c/maxresdefault.jpg',\n",
              "      'width': 1280},\n",
              "     'medium': {'height': 180,\n",
              "      'url': 'https://i.ytimg.com/vi/Vo2zPqyFr6c/mqdefault.jpg',\n",
              "      'width': 320},\n",
              "     'standard': {'height': 480,\n",
              "      'url': 'https://i.ytimg.com/vi/Vo2zPqyFr6c/sddefault.jpg',\n",
              "      'width': 640}},\n",
              "    'title': 'Interview Questions Playlist'}},\n",
              "  {'contentDetails': {'itemCount': 2},\n",
              "   'etag': 'vv-wQfDRCG82r6HCAkuKMrscMNU',\n",
              "   'id': 'PLZoTAELRMXVOgW0QRUt0LyqkQI7lhN-4s',\n",
              "   'kind': 'youtube#playlist',\n",
              "   'snippet': {'channelId': 'UCNU_lfiiWBdtULKOw6X0Dig',\n",
              "    'channelTitle': 'Krish Naik',\n",
              "    'description': '',\n",
              "    'localized': {'description': '', 'title': 'SQL interview Playlist'},\n",
              "    'publishedAt': '2021-07-12T12:53:54Z',\n",
              "    'thumbnails': {'default': {'height': 90,\n",
              "      'url': 'https://i.ytimg.com/vi/94tGeXNq9TY/default.jpg',\n",
              "      'width': 120},\n",
              "     'high': {'height': 360,\n",
              "      'url': 'https://i.ytimg.com/vi/94tGeXNq9TY/hqdefault.jpg',\n",
              "      'width': 480},\n",
              "     'medium': {'height': 180,\n",
              "      'url': 'https://i.ytimg.com/vi/94tGeXNq9TY/mqdefault.jpg',\n",
              "      'width': 320},\n",
              "     'standard': {'height': 480,\n",
              "      'url': 'https://i.ytimg.com/vi/94tGeXNq9TY/sddefault.jpg',\n",
              "      'width': 640}},\n",
              "    'title': 'SQL interview Playlist'}}],\n",
              " 'kind': 'youtube#playlistListResponse',\n",
              " 'nextPageToken': 'CAUQAA',\n",
              " 'pageInfo': {'resultsPerPage': 5, 'totalResults': 69}}"
            ]
          },
          "metadata": {},
          "execution_count": 3
        }
      ]
    },
    {
      "cell_type": "code",
      "metadata": {
        "colab": {
          "base_uri": "https://localhost:8080/"
        },
        "id": "HqnW4iFqBus7",
        "outputId": "33fe0ab6-a5d4-4393-dee3-04b7ff210455"
      },
      "source": [
        "for item in pl_response['items']:\n",
        "  print(item)\n",
        "  print()"
      ],
      "execution_count": 4,
      "outputs": [
        {
          "output_type": "stream",
          "name": "stdout",
          "text": [
            "{'kind': 'youtube#playlist', 'etag': 'a1Neyuz1soXQlahjv3a2QwDK8Mk', 'id': 'PLZoTAELRMXVO7HmmSCuP_RGBX1l84Rt1_', 'snippet': {'publishedAt': '2021-10-11T16:22:06Z', 'channelId': 'UCNU_lfiiWBdtULKOw6X0Dig', 'title': 'Blockchain', 'description': '', 'thumbnails': {'default': {'url': 'https://i.ytimg.com/vi/0JuRzN6T70I/default.jpg', 'width': 120, 'height': 90}, 'medium': {'url': 'https://i.ytimg.com/vi/0JuRzN6T70I/mqdefault.jpg', 'width': 320, 'height': 180}, 'high': {'url': 'https://i.ytimg.com/vi/0JuRzN6T70I/hqdefault.jpg', 'width': 480, 'height': 360}, 'standard': {'url': 'https://i.ytimg.com/vi/0JuRzN6T70I/sddefault.jpg', 'width': 640, 'height': 480}, 'maxres': {'url': 'https://i.ytimg.com/vi/0JuRzN6T70I/maxresdefault.jpg', 'width': 1280, 'height': 720}}, 'channelTitle': 'Krish Naik', 'localized': {'title': 'Blockchain', 'description': ''}}, 'contentDetails': {'itemCount': 2}}\n",
            "\n",
            "{'kind': 'youtube#playlist', 'etag': '5KaoNnNflNH70G5l8mjsnSt42Yk', 'id': 'PLZoTAELRMXVNi2F92wWIfb0ElJoi10q-2', 'snippet': {'publishedAt': '2021-09-05T13:52:50Z', 'channelId': 'UCNU_lfiiWBdtULKOw6X0Dig', 'title': 'Build Android App Using ML kit and tensorflow lite', 'description': '', 'thumbnails': {'default': {'url': 'https://i.ytimg.com/vi/YjpxIzvFfpI/default.jpg', 'width': 120, 'height': 90}, 'medium': {'url': 'https://i.ytimg.com/vi/YjpxIzvFfpI/mqdefault.jpg', 'width': 320, 'height': 180}, 'high': {'url': 'https://i.ytimg.com/vi/YjpxIzvFfpI/hqdefault.jpg', 'width': 480, 'height': 360}, 'standard': {'url': 'https://i.ytimg.com/vi/YjpxIzvFfpI/sddefault.jpg', 'width': 640, 'height': 480}, 'maxres': {'url': 'https://i.ytimg.com/vi/YjpxIzvFfpI/maxresdefault.jpg', 'width': 1280, 'height': 720}}, 'channelTitle': 'Krish Naik', 'localized': {'title': 'Build Android App Using ML kit and tensorflow lite', 'description': ''}}, 'contentDetails': {'itemCount': 5}}\n",
            "\n",
            "{'kind': 'youtube#playlist', 'etag': 'vfNHC9U4HnvzHnQJHqK-Yflz_TQ', 'id': 'PLZoTAELRMXVMqIy62erko74zc9q6671rU', 'snippet': {'publishedAt': '2021-08-28T14:03:47Z', 'channelId': 'UCNU_lfiiWBdtULKOw6X0Dig', 'title': 'Reviewing Resumes', 'description': '', 'thumbnails': {'default': {'url': 'https://i.ytimg.com/vi/cx00fY7fgqI/default.jpg', 'width': 120, 'height': 90}, 'medium': {'url': 'https://i.ytimg.com/vi/cx00fY7fgqI/mqdefault.jpg', 'width': 320, 'height': 180}, 'high': {'url': 'https://i.ytimg.com/vi/cx00fY7fgqI/hqdefault.jpg', 'width': 480, 'height': 360}}, 'channelTitle': 'Krish Naik', 'localized': {'title': 'Reviewing Resumes', 'description': ''}}, 'contentDetails': {'itemCount': 11}}\n",
            "\n",
            "{'kind': 'youtube#playlist', 'etag': '1myzc4FjUDYr_1Pfbzin3REAipk', 'id': 'PLZoTAELRMXVMbpd_KBoOY_ecwMsDy92gS', 'snippet': {'publishedAt': '2021-08-14T07:52:48Z', 'channelId': 'UCNU_lfiiWBdtULKOw6X0Dig', 'title': 'Interview Questions Playlist', 'description': '', 'thumbnails': {'default': {'url': 'https://i.ytimg.com/vi/Vo2zPqyFr6c/default.jpg', 'width': 120, 'height': 90}, 'medium': {'url': 'https://i.ytimg.com/vi/Vo2zPqyFr6c/mqdefault.jpg', 'width': 320, 'height': 180}, 'high': {'url': 'https://i.ytimg.com/vi/Vo2zPqyFr6c/hqdefault.jpg', 'width': 480, 'height': 360}, 'standard': {'url': 'https://i.ytimg.com/vi/Vo2zPqyFr6c/sddefault.jpg', 'width': 640, 'height': 480}, 'maxres': {'url': 'https://i.ytimg.com/vi/Vo2zPqyFr6c/maxresdefault.jpg', 'width': 1280, 'height': 720}}, 'channelTitle': 'Krish Naik', 'localized': {'title': 'Interview Questions Playlist', 'description': ''}}, 'contentDetails': {'itemCount': 5}}\n",
            "\n",
            "{'kind': 'youtube#playlist', 'etag': 'vv-wQfDRCG82r6HCAkuKMrscMNU', 'id': 'PLZoTAELRMXVOgW0QRUt0LyqkQI7lhN-4s', 'snippet': {'publishedAt': '2021-07-12T12:53:54Z', 'channelId': 'UCNU_lfiiWBdtULKOw6X0Dig', 'title': 'SQL interview Playlist', 'description': '', 'thumbnails': {'default': {'url': 'https://i.ytimg.com/vi/94tGeXNq9TY/default.jpg', 'width': 120, 'height': 90}, 'medium': {'url': 'https://i.ytimg.com/vi/94tGeXNq9TY/mqdefault.jpg', 'width': 320, 'height': 180}, 'high': {'url': 'https://i.ytimg.com/vi/94tGeXNq9TY/hqdefault.jpg', 'width': 480, 'height': 360}, 'standard': {'url': 'https://i.ytimg.com/vi/94tGeXNq9TY/sddefault.jpg', 'width': 640, 'height': 480}}, 'channelTitle': 'Krish Naik', 'localized': {'title': 'SQL interview Playlist', 'description': ''}}, 'contentDetails': {'itemCount': 2}}\n",
            "\n"
          ]
        }
      ]
    },
    {
      "cell_type": "markdown",
      "metadata": {
        "id": "ckaTJceMBxwL"
      },
      "source": [
        "# **To get the items of a playlist**"
      ]
    },
    {
      "cell_type": "code",
      "metadata": {
        "id": "ZT2aBprZPz8K"
      },
      "source": [
        "videos = []"
      ],
      "execution_count": 5,
      "outputs": []
    },
    {
      "cell_type": "code",
      "metadata": {
        "id": "TV5vRExlKOF8"
      },
      "source": [
        "playlist_id = 'PLZoTAELRMXVPGU70ZGsckrMdr0FteeRUi'"
      ],
      "execution_count": 6,
      "outputs": []
    },
    {
      "cell_type": "code",
      "metadata": {
        "id": "F2WsPEf-B0ms"
      },
      "source": [
        "nextPageToken = None\n",
        "\n",
        "while True:\n",
        "    pl_request = youtube.playlistItems().list(\n",
        "        part='contentDetails',\n",
        "        playlistId=playlist_id,\n",
        "        maxResults=50,\n",
        "        pageToken=nextPageToken\n",
        "    )\n",
        "\n",
        "    pl_response = pl_request.execute()\n",
        "\n",
        "    vid_ids = []\n",
        "    for item in pl_response['items']:\n",
        "        vid_ids.append(item['contentDetails']['videoId'])\n",
        "\n",
        "    vid_request = youtube.videos().list(\n",
        "        part=\"statistics\",     # Selecting videos based on viewcounts\n",
        "        id=','.join(vid_ids)\n",
        "    )\n",
        "\n",
        "    vid_response = vid_request.execute()\n",
        "\n",
        "    for item in vid_response['items']:\n",
        "        vid_views = item['statistics']['viewCount']\n",
        "\n",
        "        vid_id = item['id']\n",
        "        yt_link = f'https://youtu.be/{vid_id}'  # Creating youtube links using video ID\n",
        "\n",
        "        videos.append(\n",
        "            {\n",
        "                'views': int(vid_views),\n",
        "                'url': yt_link\n",
        "            }\n",
        "        )\n",
        "\n",
        "    nextPageToken = pl_response.get('nextPageToken')\n",
        "\n",
        "    if not nextPageToken:\n",
        "        break"
      ],
      "execution_count": 7,
      "outputs": []
    },
    {
      "cell_type": "code",
      "metadata": {
        "id": "GyEBHhjPW1ww"
      },
      "source": [
        "videos.sort(key=lambda vid: vid['views'], reverse=True)  # Sorting in Descending order"
      ],
      "execution_count": 8,
      "outputs": []
    },
    {
      "cell_type": "code",
      "metadata": {
        "colab": {
          "base_uri": "https://localhost:8080/"
        },
        "id": "jsR6sYBAQgPa",
        "outputId": "cb4c482e-b9d9-4751-fdac-86b8d34038c3"
      },
      "source": [
        "for video in videos:\n",
        "    print(video['url'], video['views'])\n",
        "\n",
        "len(videos)"
      ],
      "execution_count": 9,
      "outputs": [
        {
          "output_type": "stream",
          "name": "stdout",
          "text": [
            "https://youtu.be/DKSZHN7jftI 214063\n",
            "https://youtu.be/H6du_pfuznE 171675\n",
            "https://youtu.be/9jA0KjS7V_c 110891\n",
            "https://youtu.be/chQNuV9B-Rw 100113\n",
            "https://youtu.be/mH9GBJ6og5A 98668\n",
            "https://youtu.be/SXrXUqDjICA 96765\n",
            "https://youtu.be/JkeiEYkLEvM 95797\n",
            "https://youtu.be/cxPAvoIbsIk 95574\n",
            "https://youtu.be/JIWXbzRXk1I 89947\n",
            "https://youtu.be/Etksi-F5ug8 89325\n",
            "https://youtu.be/FpDsDn-fBKA 88431\n",
            "https://youtu.be/zBOavqh3kWU 86998\n",
            "https://youtu.be/y7k-zCvOYxc 84994\n",
            "https://youtu.be/rdkIOM78ZPk 81067\n",
            "https://youtu.be/CRB266Eyjkg 80801\n",
            "https://youtu.be/DDBk3ZFNtJc 74741\n",
            "https://youtu.be/CPl9XdIFbYA 74622\n",
            "https://youtu.be/pO_6Jk0QtKw 73350\n",
            "https://youtu.be/StH5YNrY0mE 72956\n",
            "https://youtu.be/XmLYl17DbbA 72919\n",
            "https://youtu.be/hxLU32zhze0 70492\n",
            "https://youtu.be/OTTOglLJxLU 64374\n",
            "https://youtu.be/IJ9atfxFjOQ 63626\n",
            "https://youtu.be/OzLAdpqm35E 62464\n",
            "https://youtu.be/uwJltCOrpEI 60134\n",
            "https://youtu.be/tMjdQLylyGI 58958\n",
            "https://youtu.be/u8utlK_c5C8 55768\n",
            "https://youtu.be/CKLwvuKWQjo 55432\n",
            "https://youtu.be/YFNKnUhm_-s 55218\n",
            "https://youtu.be/PGBop7Ka9AU 54046\n",
            "https://youtu.be/MXPh_lMRwAI 52738\n",
            "https://youtu.be/aLjpU-ahEhA 49837\n",
            "https://youtu.be/6EXP2-d_xQA 48797\n",
            "https://youtu.be/TsXR7_vtusQ 48692\n",
            "https://youtu.be/OSJOBH2-a9Y 48386\n",
            "https://youtu.be/GSmW59dM0-o 47626\n",
            "https://youtu.be/41JItgtYGDo 46997\n",
            "https://youtu.be/VpSLtKiPhLM 46930\n",
            "https://youtu.be/UbvkhuqVqUI 46412\n",
            "https://youtu.be/JLk0ee_zuOM 46128\n",
            "https://youtu.be/TudQZtgpoHk 44039\n",
            "https://youtu.be/jCrgzJlxTKg 40008\n",
            "https://youtu.be/XoMiveY_1Z4 39091\n",
            "https://youtu.be/qVLQ9Cqm-ec 38569\n",
            "https://youtu.be/UGiLdf3fzAI 38551\n",
            "https://youtu.be/9wFBbAQixBM 38477\n",
            "https://youtu.be/cleLMnmNMpY 37919\n",
            "https://youtu.be/mDaEfPgwtgo 37899\n",
            "https://youtu.be/SMZQrJ_L1vo 34326\n",
            "https://youtu.be/Lx16T9cl5ng 33475\n",
            "https://youtu.be/f-JCCOHwx1c 33381\n",
            "https://youtu.be/bHfXYQgn0Cc 33041\n",
            "https://youtu.be/UeydWKkjwwE 30888\n",
            "https://youtu.be/J3nFOPoVnPw 30059\n",
            "https://youtu.be/mHPpCXqQd7Y 28023\n",
            "https://youtu.be/g4Rm13hWIPc 25856\n",
            "https://youtu.be/e59u5YyuEfQ 25436\n",
            "https://youtu.be/D-a6dwXzJ6s 24777\n",
            "https://youtu.be/fdhojC37_Co 21132\n",
            "https://youtu.be/ZU12u6-ewP0 18993\n",
            "https://youtu.be/mRVTKrbRYi0 18826\n",
            "https://youtu.be/CGHDf3EU1Bo 18033\n",
            "https://youtu.be/upo34AT1Cys 15945\n",
            "https://youtu.be/67AoEK5PFKk 15687\n",
            "https://youtu.be/RpTmnRGJvRQ 15564\n",
            "https://youtu.be/dmg5kZBCYck 14014\n",
            "https://youtu.be/tHf4CmTH1QE 13731\n",
            "https://youtu.be/7LQSdPjWjdA 13727\n",
            "https://youtu.be/tpHs8ROqMMs 13264\n",
            "https://youtu.be/4F-cwOkMdTE 11670\n",
            "https://youtu.be/OpGM0Zzf9jw 10266\n",
            "https://youtu.be/zqrtH_IIHuY 9023\n",
            "https://youtu.be/VDCdWwldlx4 8132\n",
            "https://youtu.be/wruyZWre2sM 8066\n",
            "https://youtu.be/uTFU7qThylE 8049\n",
            "https://youtu.be/cqndT517NcQ 7906\n",
            "https://youtu.be/nscku-jLjSQ 7511\n",
            "https://youtu.be/FO-tjmtw5J4 7362\n",
            "https://youtu.be/y8zqS7cfi6o 6324\n",
            "https://youtu.be/nq1p3lMenbU 6192\n",
            "https://youtu.be/lRcNvNduD2M 5796\n",
            "https://youtu.be/xL_0sscWllM 5713\n",
            "https://youtu.be/JmWQs1uFxy8 4993\n",
            "https://youtu.be/UEezYzbraXg 3756\n",
            "https://youtu.be/zoEJQr1VJ3Q 2820\n",
            "https://youtu.be/fWq6ZLRqTZc 1502\n"
          ]
        },
        {
          "output_type": "execute_result",
          "data": {
            "text/plain": [
              "86"
            ]
          },
          "metadata": {},
          "execution_count": 9
        }
      ]
    }
  ]
}