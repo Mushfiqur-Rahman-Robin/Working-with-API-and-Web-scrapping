{
  "nbformat": 4,
  "nbformat_minor": 0,
  "metadata": {
    "colab": {
      "name": "YouTube API: Know the duration of a playlist",
      "provenance": []
    },
    "kernelspec": {
      "name": "python3",
      "display_name": "Python 3"
    },
    "language_info": {
      "name": "python"
    }
  },
  "cells": [
    {
      "cell_type": "code",
      "metadata": {
        "id": "DpvRoIuHBI_T"
      },
      "source": [
        "YOURAPIKEY = 'XXXXXXXXXXXXXXXXXXXXXXXXXXXX' # Use your own API key"
      ],
      "execution_count": 1,
      "outputs": []
    },
    {
      "cell_type": "code",
      "metadata": {
        "colab": {
          "base_uri": "https://localhost:8080/"
        },
        "id": "WJZB8FfTBeK8",
        "outputId": "7e0fbb1c-28da-42a5-83a6-6fb0361e514b"
      },
      "source": [
        "from googleapiclient.discovery import build\n",
        "\n",
        "api_key = YOURAPIKEY\n",
        "\n",
        "youtube = build('youtube', 'v3', developerKey=api_key)\n",
        "\n",
        "request = youtube.channels().list(\n",
        "        part='contentDetails, statistics',\n",
        "        id = 'UCNU_lfiiWBdtULKOw6X0Dig'\n",
        "    )\n",
        "\n",
        "response = request.execute()\n",
        "\n",
        "response"
      ],
      "execution_count": 2,
      "outputs": [
        {
          "output_type": "execute_result",
          "data": {
            "text/plain": [
              "{'etag': 'pBUhpCVpYRAOkY5K0iNzzACjiuo',\n",
              " 'items': [{'contentDetails': {'relatedPlaylists': {'likes': '',\n",
              "     'uploads': 'UUNU_lfiiWBdtULKOw6X0Dig'}},\n",
              "   'etag': 'X3CG1Y2Q60iFlpTvruwl0e6i9gQ',\n",
              "   'id': 'UCNU_lfiiWBdtULKOw6X0Dig',\n",
              "   'kind': 'youtube#channel',\n",
              "   'statistics': {'hiddenSubscriberCount': False,\n",
              "    'subscriberCount': '459000',\n",
              "    'videoCount': '1223',\n",
              "    'viewCount': '35852923'}}],\n",
              " 'kind': 'youtube#channelListResponse',\n",
              " 'pageInfo': {'resultsPerPage': 5, 'totalResults': 1}}"
            ]
          },
          "metadata": {},
          "execution_count": 2
        }
      ]
    },
    {
      "cell_type": "markdown",
      "metadata": {
        "id": "iqXAGnlnBog7"
      },
      "source": [
        "# **To get the playlists**"
      ]
    },
    {
      "cell_type": "code",
      "metadata": {
        "colab": {
          "base_uri": "https://localhost:8080/"
        },
        "id": "dAZM065uBp7L",
        "outputId": "c8363707-49c8-44a3-a4dc-08b1a716bcbf"
      },
      "source": [
        "from googleapiclient.discovery import build\n",
        "\n",
        "api_key = YOURAPIKEY\n",
        "\n",
        "youtube = build('youtube', 'v3', developerKey=api_key)\n",
        "\n",
        "pl_request = youtube.playlists().list(\n",
        "        part='contentDetails, snippet',\n",
        "        channelId = 'UCNU_lfiiWBdtULKOw6X0Dig'\n",
        "    )\n",
        "\n",
        "pl_response = pl_request.execute()\n",
        "\n",
        "pl_response"
      ],
      "execution_count": 3,
      "outputs": [
        {
          "output_type": "execute_result",
          "data": {
            "text/plain": [
              "{'etag': 'S-Ehn9vXJ4NJ1CosHFObo-RHBhc',\n",
              " 'items': [{'contentDetails': {'itemCount': 2},\n",
              "   'etag': 'a1Neyuz1soXQlahjv3a2QwDK8Mk',\n",
              "   'id': 'PLZoTAELRMXVO7HmmSCuP_RGBX1l84Rt1_',\n",
              "   'kind': 'youtube#playlist',\n",
              "   'snippet': {'channelId': 'UCNU_lfiiWBdtULKOw6X0Dig',\n",
              "    'channelTitle': 'Krish Naik',\n",
              "    'description': '',\n",
              "    'localized': {'description': '', 'title': 'Blockchain'},\n",
              "    'publishedAt': '2021-10-11T16:22:06Z',\n",
              "    'thumbnails': {'default': {'height': 90,\n",
              "      'url': 'https://i.ytimg.com/vi/0JuRzN6T70I/default.jpg',\n",
              "      'width': 120},\n",
              "     'high': {'height': 360,\n",
              "      'url': 'https://i.ytimg.com/vi/0JuRzN6T70I/hqdefault.jpg',\n",
              "      'width': 480},\n",
              "     'maxres': {'height': 720,\n",
              "      'url': 'https://i.ytimg.com/vi/0JuRzN6T70I/maxresdefault.jpg',\n",
              "      'width': 1280},\n",
              "     'medium': {'height': 180,\n",
              "      'url': 'https://i.ytimg.com/vi/0JuRzN6T70I/mqdefault.jpg',\n",
              "      'width': 320},\n",
              "     'standard': {'height': 480,\n",
              "      'url': 'https://i.ytimg.com/vi/0JuRzN6T70I/sddefault.jpg',\n",
              "      'width': 640}},\n",
              "    'title': 'Blockchain'}},\n",
              "  {'contentDetails': {'itemCount': 5},\n",
              "   'etag': '5KaoNnNflNH70G5l8mjsnSt42Yk',\n",
              "   'id': 'PLZoTAELRMXVNi2F92wWIfb0ElJoi10q-2',\n",
              "   'kind': 'youtube#playlist',\n",
              "   'snippet': {'channelId': 'UCNU_lfiiWBdtULKOw6X0Dig',\n",
              "    'channelTitle': 'Krish Naik',\n",
              "    'description': '',\n",
              "    'localized': {'description': '',\n",
              "     'title': 'Build Android App Using ML kit and tensorflow lite'},\n",
              "    'publishedAt': '2021-09-05T13:52:50Z',\n",
              "    'thumbnails': {'default': {'height': 90,\n",
              "      'url': 'https://i.ytimg.com/vi/YjpxIzvFfpI/default.jpg',\n",
              "      'width': 120},\n",
              "     'high': {'height': 360,\n",
              "      'url': 'https://i.ytimg.com/vi/YjpxIzvFfpI/hqdefault.jpg',\n",
              "      'width': 480},\n",
              "     'maxres': {'height': 720,\n",
              "      'url': 'https://i.ytimg.com/vi/YjpxIzvFfpI/maxresdefault.jpg',\n",
              "      'width': 1280},\n",
              "     'medium': {'height': 180,\n",
              "      'url': 'https://i.ytimg.com/vi/YjpxIzvFfpI/mqdefault.jpg',\n",
              "      'width': 320},\n",
              "     'standard': {'height': 480,\n",
              "      'url': 'https://i.ytimg.com/vi/YjpxIzvFfpI/sddefault.jpg',\n",
              "      'width': 640}},\n",
              "    'title': 'Build Android App Using ML kit and tensorflow lite'}},\n",
              "  {'contentDetails': {'itemCount': 11},\n",
              "   'etag': 'vfNHC9U4HnvzHnQJHqK-Yflz_TQ',\n",
              "   'id': 'PLZoTAELRMXVMqIy62erko74zc9q6671rU',\n",
              "   'kind': 'youtube#playlist',\n",
              "   'snippet': {'channelId': 'UCNU_lfiiWBdtULKOw6X0Dig',\n",
              "    'channelTitle': 'Krish Naik',\n",
              "    'description': '',\n",
              "    'localized': {'description': '', 'title': 'Reviewing Resumes'},\n",
              "    'publishedAt': '2021-08-28T14:03:47Z',\n",
              "    'thumbnails': {'default': {'height': 90,\n",
              "      'url': 'https://i.ytimg.com/vi/cx00fY7fgqI/default.jpg',\n",
              "      'width': 120},\n",
              "     'high': {'height': 360,\n",
              "      'url': 'https://i.ytimg.com/vi/cx00fY7fgqI/hqdefault.jpg',\n",
              "      'width': 480},\n",
              "     'medium': {'height': 180,\n",
              "      'url': 'https://i.ytimg.com/vi/cx00fY7fgqI/mqdefault.jpg',\n",
              "      'width': 320}},\n",
              "    'title': 'Reviewing Resumes'}},\n",
              "  {'contentDetails': {'itemCount': 5},\n",
              "   'etag': '1myzc4FjUDYr_1Pfbzin3REAipk',\n",
              "   'id': 'PLZoTAELRMXVMbpd_KBoOY_ecwMsDy92gS',\n",
              "   'kind': 'youtube#playlist',\n",
              "   'snippet': {'channelId': 'UCNU_lfiiWBdtULKOw6X0Dig',\n",
              "    'channelTitle': 'Krish Naik',\n",
              "    'description': '',\n",
              "    'localized': {'description': '', 'title': 'Interview Questions Playlist'},\n",
              "    'publishedAt': '2021-08-14T07:52:48Z',\n",
              "    'thumbnails': {'default': {'height': 90,\n",
              "      'url': 'https://i.ytimg.com/vi/Vo2zPqyFr6c/default.jpg',\n",
              "      'width': 120},\n",
              "     'high': {'height': 360,\n",
              "      'url': 'https://i.ytimg.com/vi/Vo2zPqyFr6c/hqdefault.jpg',\n",
              "      'width': 480},\n",
              "     'maxres': {'height': 720,\n",
              "      'url': 'https://i.ytimg.com/vi/Vo2zPqyFr6c/maxresdefault.jpg',\n",
              "      'width': 1280},\n",
              "     'medium': {'height': 180,\n",
              "      'url': 'https://i.ytimg.com/vi/Vo2zPqyFr6c/mqdefault.jpg',\n",
              "      'width': 320},\n",
              "     'standard': {'height': 480,\n",
              "      'url': 'https://i.ytimg.com/vi/Vo2zPqyFr6c/sddefault.jpg',\n",
              "      'width': 640}},\n",
              "    'title': 'Interview Questions Playlist'}},\n",
              "  {'contentDetails': {'itemCount': 2},\n",
              "   'etag': 'vv-wQfDRCG82r6HCAkuKMrscMNU',\n",
              "   'id': 'PLZoTAELRMXVOgW0QRUt0LyqkQI7lhN-4s',\n",
              "   'kind': 'youtube#playlist',\n",
              "   'snippet': {'channelId': 'UCNU_lfiiWBdtULKOw6X0Dig',\n",
              "    'channelTitle': 'Krish Naik',\n",
              "    'description': '',\n",
              "    'localized': {'description': '', 'title': 'SQL interview Playlist'},\n",
              "    'publishedAt': '2021-07-12T12:53:54Z',\n",
              "    'thumbnails': {'default': {'height': 90,\n",
              "      'url': 'https://i.ytimg.com/vi/94tGeXNq9TY/default.jpg',\n",
              "      'width': 120},\n",
              "     'high': {'height': 360,\n",
              "      'url': 'https://i.ytimg.com/vi/94tGeXNq9TY/hqdefault.jpg',\n",
              "      'width': 480},\n",
              "     'medium': {'height': 180,\n",
              "      'url': 'https://i.ytimg.com/vi/94tGeXNq9TY/mqdefault.jpg',\n",
              "      'width': 320},\n",
              "     'standard': {'height': 480,\n",
              "      'url': 'https://i.ytimg.com/vi/94tGeXNq9TY/sddefault.jpg',\n",
              "      'width': 640}},\n",
              "    'title': 'SQL interview Playlist'}}],\n",
              " 'kind': 'youtube#playlistListResponse',\n",
              " 'nextPageToken': 'CAUQAA',\n",
              " 'pageInfo': {'resultsPerPage': 5, 'totalResults': 69}}"
            ]
          },
          "metadata": {},
          "execution_count": 3
        }
      ]
    },
    {
      "cell_type": "code",
      "metadata": {
        "colab": {
          "base_uri": "https://localhost:8080/"
        },
        "id": "HqnW4iFqBus7",
        "outputId": "edef1258-abf0-40a5-f16f-2246f19cf68b"
      },
      "source": [
        "for item in pl_response['items']:\n",
        "  print(item)\n",
        "  print()"
      ],
      "execution_count": 4,
      "outputs": [
        {
          "output_type": "stream",
          "name": "stdout",
          "text": [
            "{'kind': 'youtube#playlist', 'etag': 'a1Neyuz1soXQlahjv3a2QwDK8Mk', 'id': 'PLZoTAELRMXVO7HmmSCuP_RGBX1l84Rt1_', 'snippet': {'publishedAt': '2021-10-11T16:22:06Z', 'channelId': 'UCNU_lfiiWBdtULKOw6X0Dig', 'title': 'Blockchain', 'description': '', 'thumbnails': {'default': {'url': 'https://i.ytimg.com/vi/0JuRzN6T70I/default.jpg', 'width': 120, 'height': 90}, 'medium': {'url': 'https://i.ytimg.com/vi/0JuRzN6T70I/mqdefault.jpg', 'width': 320, 'height': 180}, 'high': {'url': 'https://i.ytimg.com/vi/0JuRzN6T70I/hqdefault.jpg', 'width': 480, 'height': 360}, 'standard': {'url': 'https://i.ytimg.com/vi/0JuRzN6T70I/sddefault.jpg', 'width': 640, 'height': 480}, 'maxres': {'url': 'https://i.ytimg.com/vi/0JuRzN6T70I/maxresdefault.jpg', 'width': 1280, 'height': 720}}, 'channelTitle': 'Krish Naik', 'localized': {'title': 'Blockchain', 'description': ''}}, 'contentDetails': {'itemCount': 2}}\n",
            "\n",
            "{'kind': 'youtube#playlist', 'etag': '5KaoNnNflNH70G5l8mjsnSt42Yk', 'id': 'PLZoTAELRMXVNi2F92wWIfb0ElJoi10q-2', 'snippet': {'publishedAt': '2021-09-05T13:52:50Z', 'channelId': 'UCNU_lfiiWBdtULKOw6X0Dig', 'title': 'Build Android App Using ML kit and tensorflow lite', 'description': '', 'thumbnails': {'default': {'url': 'https://i.ytimg.com/vi/YjpxIzvFfpI/default.jpg', 'width': 120, 'height': 90}, 'medium': {'url': 'https://i.ytimg.com/vi/YjpxIzvFfpI/mqdefault.jpg', 'width': 320, 'height': 180}, 'high': {'url': 'https://i.ytimg.com/vi/YjpxIzvFfpI/hqdefault.jpg', 'width': 480, 'height': 360}, 'standard': {'url': 'https://i.ytimg.com/vi/YjpxIzvFfpI/sddefault.jpg', 'width': 640, 'height': 480}, 'maxres': {'url': 'https://i.ytimg.com/vi/YjpxIzvFfpI/maxresdefault.jpg', 'width': 1280, 'height': 720}}, 'channelTitle': 'Krish Naik', 'localized': {'title': 'Build Android App Using ML kit and tensorflow lite', 'description': ''}}, 'contentDetails': {'itemCount': 5}}\n",
            "\n",
            "{'kind': 'youtube#playlist', 'etag': 'vfNHC9U4HnvzHnQJHqK-Yflz_TQ', 'id': 'PLZoTAELRMXVMqIy62erko74zc9q6671rU', 'snippet': {'publishedAt': '2021-08-28T14:03:47Z', 'channelId': 'UCNU_lfiiWBdtULKOw6X0Dig', 'title': 'Reviewing Resumes', 'description': '', 'thumbnails': {'default': {'url': 'https://i.ytimg.com/vi/cx00fY7fgqI/default.jpg', 'width': 120, 'height': 90}, 'medium': {'url': 'https://i.ytimg.com/vi/cx00fY7fgqI/mqdefault.jpg', 'width': 320, 'height': 180}, 'high': {'url': 'https://i.ytimg.com/vi/cx00fY7fgqI/hqdefault.jpg', 'width': 480, 'height': 360}}, 'channelTitle': 'Krish Naik', 'localized': {'title': 'Reviewing Resumes', 'description': ''}}, 'contentDetails': {'itemCount': 11}}\n",
            "\n",
            "{'kind': 'youtube#playlist', 'etag': '1myzc4FjUDYr_1Pfbzin3REAipk', 'id': 'PLZoTAELRMXVMbpd_KBoOY_ecwMsDy92gS', 'snippet': {'publishedAt': '2021-08-14T07:52:48Z', 'channelId': 'UCNU_lfiiWBdtULKOw6X0Dig', 'title': 'Interview Questions Playlist', 'description': '', 'thumbnails': {'default': {'url': 'https://i.ytimg.com/vi/Vo2zPqyFr6c/default.jpg', 'width': 120, 'height': 90}, 'medium': {'url': 'https://i.ytimg.com/vi/Vo2zPqyFr6c/mqdefault.jpg', 'width': 320, 'height': 180}, 'high': {'url': 'https://i.ytimg.com/vi/Vo2zPqyFr6c/hqdefault.jpg', 'width': 480, 'height': 360}, 'standard': {'url': 'https://i.ytimg.com/vi/Vo2zPqyFr6c/sddefault.jpg', 'width': 640, 'height': 480}, 'maxres': {'url': 'https://i.ytimg.com/vi/Vo2zPqyFr6c/maxresdefault.jpg', 'width': 1280, 'height': 720}}, 'channelTitle': 'Krish Naik', 'localized': {'title': 'Interview Questions Playlist', 'description': ''}}, 'contentDetails': {'itemCount': 5}}\n",
            "\n",
            "{'kind': 'youtube#playlist', 'etag': 'vv-wQfDRCG82r6HCAkuKMrscMNU', 'id': 'PLZoTAELRMXVOgW0QRUt0LyqkQI7lhN-4s', 'snippet': {'publishedAt': '2021-07-12T12:53:54Z', 'channelId': 'UCNU_lfiiWBdtULKOw6X0Dig', 'title': 'SQL interview Playlist', 'description': '', 'thumbnails': {'default': {'url': 'https://i.ytimg.com/vi/94tGeXNq9TY/default.jpg', 'width': 120, 'height': 90}, 'medium': {'url': 'https://i.ytimg.com/vi/94tGeXNq9TY/mqdefault.jpg', 'width': 320, 'height': 180}, 'high': {'url': 'https://i.ytimg.com/vi/94tGeXNq9TY/hqdefault.jpg', 'width': 480, 'height': 360}, 'standard': {'url': 'https://i.ytimg.com/vi/94tGeXNq9TY/sddefault.jpg', 'width': 640, 'height': 480}}, 'channelTitle': 'Krish Naik', 'localized': {'title': 'SQL interview Playlist', 'description': ''}}, 'contentDetails': {'itemCount': 2}}\n",
            "\n"
          ]
        }
      ]
    },
    {
      "cell_type": "markdown",
      "metadata": {
        "id": "ckaTJceMBxwL"
      },
      "source": [
        "# **To get the items of a playlist**"
      ]
    },
    {
      "cell_type": "code",
      "metadata": {
        "colab": {
          "base_uri": "https://localhost:8080/"
        },
        "id": "F2WsPEf-B0ms",
        "outputId": "737ddcef-350d-4368-84b9-05b5a14dc451"
      },
      "source": [
        "from googleapiclient.discovery import build\n",
        "\n",
        "api_key = YOURAPIKEY\n",
        "\n",
        "youtube = build('youtube', 'v3', developerKey=api_key)\n",
        "\n",
        "pl_request = youtube.playlistItems().list(\n",
        "        part='contentDetails',\n",
        "        playlistId = 'PLZoTAELRMXVPGU70ZGsckrMdr0FteeRUi'\n",
        "    )\n",
        "\n",
        "pl_response = pl_request.execute()\n",
        "\n",
        "for item in pl_response['items']:\n",
        "  print(item)\n",
        "  print()"
      ],
      "execution_count": 5,
      "outputs": [
        {
          "output_type": "stream",
          "name": "stdout",
          "text": [
            "{'kind': 'youtube#playlistItem', 'etag': 'FA4h7HqXUW1Ds5wilbW5qCCn73s', 'id': 'UExab1RBRUxSTVhWUEdVNzBaR3Nja3JNZHIwRnRlZVJVaS5GMDBDNkJGMzYzREUyMTYw', 'contentDetails': {'videoId': 'YFNKnUhm_-s', 'videoPublishedAt': '2021-05-08T14:30:19Z'}}\n",
            "\n",
            "{'kind': 'youtube#playlistItem', 'etag': 'b-5_zkUj1849W_kIBgO670R13H8', 'id': 'UExab1RBRUxSTVhWUEdVNzBaR3Nja3JNZHIwRnRlZVJVaS4wRjhFM0MxMTU1MEUzQ0VB', 'contentDetails': {'videoId': '9jA0KjS7V_c', 'videoPublishedAt': '2020-10-01T14:58:36Z'}}\n",
            "\n",
            "{'kind': 'youtube#playlistItem', 'etag': '_zNExADVa8-Bz8MLnq6BA363gek', 'id': 'UExab1RBRUxSTVhWUEdVNzBaR3Nja3JNZHIwRnRlZVJVaS5EMzJDRTUwQjBEOUVFQzAw', 'contentDetails': {'videoId': 'J3nFOPoVnPw', 'videoPublishedAt': '2021-04-18T09:54:09Z'}}\n",
            "\n",
            "{'kind': 'youtube#playlistItem', 'etag': 'DJ2GInHxKnthgcjDUWWXKu1F-d0', 'id': 'UExab1RBRUxSTVhWUEdVNzBaR3Nja3JNZHIwRnRlZVJVaS41NkI0NEY2RDEwNTU3Q0M2', 'contentDetails': {'videoId': 'DKSZHN7jftI', 'videoPublishedAt': '2019-07-17T11:25:57Z'}}\n",
            "\n",
            "{'kind': 'youtube#playlistItem', 'etag': 'W2-gA-b6ZwB-aDCgjXCeUWs9rro', 'id': 'UExab1RBRUxSTVhWUEdVNzBaR3Nja3JNZHIwRnRlZVJVaS4yODlGNEE0NkRGMEEzMEQy', 'contentDetails': {'videoId': 'JkeiEYkLEvM', 'videoPublishedAt': '2019-07-17T11:26:04Z'}}\n",
            "\n"
          ]
        }
      ]
    },
    {
      "cell_type": "code",
      "metadata": {
        "colab": {
          "base_uri": "https://localhost:8080/"
        },
        "id": "2nOWxvAcB58T",
        "outputId": "e13f4f12-cb15-43e7-9440-3edec17c1a65"
      },
      "source": [
        "for item in pl_response['items']:\n",
        "  vid_id = item['contentDetails']['videoId']\n",
        "  print(vid_id)\n",
        "  print()"
      ],
      "execution_count": 6,
      "outputs": [
        {
          "output_type": "stream",
          "name": "stdout",
          "text": [
            "YFNKnUhm_-s\n",
            "\n",
            "9jA0KjS7V_c\n",
            "\n",
            "J3nFOPoVnPw\n",
            "\n",
            "DKSZHN7jftI\n",
            "\n",
            "JkeiEYkLEvM\n",
            "\n"
          ]
        }
      ]
    },
    {
      "cell_type": "code",
      "metadata": {
        "colab": {
          "base_uri": "https://localhost:8080/"
        },
        "id": "qdfgD2lrB8h7",
        "outputId": "b4f98f5e-0aec-4c7d-d9f5-c37e4cd87ce2"
      },
      "source": [
        "vid_ids = []\n",
        "\n",
        "for item in pl_response['items']:\n",
        "  vid_ids.append(item['contentDetails']['videoId'])\n",
        "  print(vid_ids)\n",
        "  print()"
      ],
      "execution_count": 7,
      "outputs": [
        {
          "output_type": "stream",
          "name": "stdout",
          "text": [
            "['YFNKnUhm_-s']\n",
            "\n",
            "['YFNKnUhm_-s', '9jA0KjS7V_c']\n",
            "\n",
            "['YFNKnUhm_-s', '9jA0KjS7V_c', 'J3nFOPoVnPw']\n",
            "\n",
            "['YFNKnUhm_-s', '9jA0KjS7V_c', 'J3nFOPoVnPw', 'DKSZHN7jftI']\n",
            "\n",
            "['YFNKnUhm_-s', '9jA0KjS7V_c', 'J3nFOPoVnPw', 'DKSZHN7jftI', 'JkeiEYkLEvM']\n",
            "\n"
          ]
        }
      ]
    },
    {
      "cell_type": "code",
      "metadata": {
        "colab": {
          "base_uri": "https://localhost:8080/"
        },
        "id": "zdP9BDH2B_eM",
        "outputId": "9e6d48b9-4f7a-4655-ed6a-4d65418ee250"
      },
      "source": [
        "print(','.join(vid_ids))"
      ],
      "execution_count": 8,
      "outputs": [
        {
          "output_type": "stream",
          "name": "stdout",
          "text": [
            "YFNKnUhm_-s,9jA0KjS7V_c,J3nFOPoVnPw,DKSZHN7jftI,JkeiEYkLEvM\n"
          ]
        }
      ]
    },
    {
      "cell_type": "markdown",
      "metadata": {
        "id": "P-m_dKcpCDQE"
      },
      "source": [
        "# **To check for each video uniquely**"
      ]
    },
    {
      "cell_type": "code",
      "metadata": {
        "id": "z1HTJvAWCERT"
      },
      "source": [
        "vid_request = youtube.videos().list(\n",
        "        part=\"contentDetails\",\n",
        "        id=','.join(vid_ids)\n",
        "    )\n",
        "\n",
        "vid_response = vid_request.execute()"
      ],
      "execution_count": 9,
      "outputs": []
    },
    {
      "cell_type": "code",
      "metadata": {
        "colab": {
          "base_uri": "https://localhost:8080/"
        },
        "id": "vz96gTbXCHiz",
        "outputId": "90cbfcee-324c-492b-806f-304f3e438f69"
      },
      "source": [
        "for item in vid_response['items']:\n",
        "  print(item)\n",
        "  print()"
      ],
      "execution_count": 10,
      "outputs": [
        {
          "output_type": "stream",
          "name": "stdout",
          "text": [
            "{'kind': 'youtube#video', 'etag': 'aVoexWfcLTlp-u5IPyJYB2yN9hw', 'id': 'YFNKnUhm_-s', 'contentDetails': {'duration': 'PT14M3S', 'dimension': '2d', 'definition': 'hd', 'caption': 'false', 'licensedContent': True, 'contentRating': {}, 'projection': 'rectangular'}}\n",
            "\n",
            "{'kind': 'youtube#video', 'etag': 'eNdP72lykQw8LaT79j0jwFKk648', 'id': '9jA0KjS7V_c', 'contentDetails': {'duration': 'PT16M23S', 'dimension': '2d', 'definition': 'hd', 'caption': 'false', 'licensedContent': True, 'contentRating': {}, 'projection': 'rectangular'}}\n",
            "\n",
            "{'kind': 'youtube#video', 'etag': '5KzXfVNymknN9zOQH4lhnKRt6gM', 'id': 'J3nFOPoVnPw', 'contentDetails': {'duration': 'PT50M28S', 'dimension': '2d', 'definition': 'hd', 'caption': 'false', 'licensedContent': True, 'contentRating': {}, 'projection': 'rectangular'}}\n",
            "\n",
            "{'kind': 'youtube#video', 'etag': 'MwV_XUgE0g0Lf5MiuE-YN6_yH2Q', 'id': 'DKSZHN7jftI', 'contentDetails': {'duration': 'PT8M19S', 'dimension': '2d', 'definition': 'hd', 'caption': 'false', 'licensedContent': True, 'contentRating': {}, 'projection': 'rectangular'}}\n",
            "\n",
            "{'kind': 'youtube#video', 'etag': 'VD-EFD_x_pUb-Pf3VYCuGff4heU', 'id': 'JkeiEYkLEvM', 'contentDetails': {'duration': 'PT7M29S', 'dimension': '2d', 'definition': 'hd', 'caption': 'false', 'licensedContent': True, 'contentRating': {}, 'projection': 'rectangular'}}\n",
            "\n"
          ]
        }
      ]
    },
    {
      "cell_type": "markdown",
      "metadata": {
        "id": "-GcAnLNACKuj"
      },
      "source": [
        "# **Duration**"
      ]
    },
    {
      "cell_type": "code",
      "metadata": {
        "colab": {
          "base_uri": "https://localhost:8080/"
        },
        "id": "EWzALGUuCMRL",
        "outputId": "7a8c55be-a8f1-41e5-bb46-4f55dec31881"
      },
      "source": [
        "for item in vid_response['items']:\n",
        "  duration = item['contentDetails']['duration']\n",
        "  print(duration)\n",
        "  print()"
      ],
      "execution_count": 11,
      "outputs": [
        {
          "output_type": "stream",
          "name": "stdout",
          "text": [
            "PT14M3S\n",
            "\n",
            "PT16M23S\n",
            "\n",
            "PT50M28S\n",
            "\n",
            "PT8M19S\n",
            "\n",
            "PT7M29S\n",
            "\n"
          ]
        }
      ]
    },
    {
      "cell_type": "code",
      "metadata": {
        "id": "FoNTAKR4CQI8"
      },
      "source": [
        "import re\n",
        "\n",
        "hours_pattern = re.compile(r'(\\d+)H')\n",
        "minutes_pattern = re.compile(r'(\\d+)M')\n",
        "seconds_pattern = re.compile(r'(\\d+)S')"
      ],
      "execution_count": 12,
      "outputs": []
    },
    {
      "cell_type": "code",
      "metadata": {
        "colab": {
          "base_uri": "https://localhost:8080/"
        },
        "id": "h7QedTy7CSd7",
        "outputId": "3cbc88dd-974e-4224-d468-67869047363c"
      },
      "source": [
        "for item in vid_response['items']:\n",
        "  duration = item['contentDetails']['duration']\n",
        "\n",
        "  hours = hours_pattern.search(duration)\n",
        "  minutes = minutes_pattern.search(duration)\n",
        "  seconds = seconds_pattern.search(duration)\n",
        "\n",
        "  print(minutes)\n",
        "  print()"
      ],
      "execution_count": 13,
      "outputs": [
        {
          "output_type": "stream",
          "name": "stdout",
          "text": [
            "<re.Match object; span=(2, 5), match='14M'>\n",
            "\n",
            "<re.Match object; span=(2, 5), match='16M'>\n",
            "\n",
            "<re.Match object; span=(2, 5), match='50M'>\n",
            "\n",
            "<re.Match object; span=(2, 4), match='8M'>\n",
            "\n",
            "<re.Match object; span=(2, 4), match='7M'>\n",
            "\n"
          ]
        }
      ]
    },
    {
      "cell_type": "code",
      "metadata": {
        "colab": {
          "base_uri": "https://localhost:8080/"
        },
        "id": "X2MTzNVpCVZT",
        "outputId": "182b91e9-3fd0-458f-8d32-c44a68caab02"
      },
      "source": [
        "for item in vid_response['items']:\n",
        "  duration = item['contentDetails']['duration']\n",
        "\n",
        "  hours = hours_pattern.search(duration)\n",
        "  minutes = minutes_pattern.search(duration)\n",
        "  seconds = seconds_pattern.search(duration)\n",
        "\n",
        "  hours = int(hours.group(1)) if hours else 0  #condition is given so that if hours = None, the code doesn't show error rather converting it to zero.\n",
        "  minutes = int(minutes.group(1)) if minutes else 0  \n",
        "  seconds = int(seconds.group(1)) if seconds else 0\n",
        "\n",
        "  print(hours, minutes, seconds)\n",
        "  print()"
      ],
      "execution_count": 14,
      "outputs": [
        {
          "output_type": "stream",
          "name": "stdout",
          "text": [
            "0 14 3\n",
            "\n",
            "0 16 23\n",
            "\n",
            "0 50 28\n",
            "\n",
            "0 8 19\n",
            "\n",
            "0 7 29\n",
            "\n"
          ]
        }
      ]
    },
    {
      "cell_type": "markdown",
      "metadata": {
        "id": "Xy8Ali7dCY-b"
      },
      "source": [
        "# **Printing results in seconds**"
      ]
    },
    {
      "cell_type": "code",
      "metadata": {
        "colab": {
          "base_uri": "https://localhost:8080/"
        },
        "id": "XU4S_SQmCb3c",
        "outputId": "97f924e4-a677-42b0-917a-f286ec878aa4"
      },
      "source": [
        "from datetime import timedelta\n",
        "\n",
        "for item in vid_response['items']:\n",
        "  duration = item['contentDetails']['duration']\n",
        "\n",
        "  hours = hours_pattern.search(duration)\n",
        "  minutes = minutes_pattern.search(duration)\n",
        "  seconds = seconds_pattern.search(duration)\n",
        "\n",
        "  hours = int(hours.group(1)) if hours else 0\n",
        "  minutes = int(minutes.group(1)) if minutes else 0\n",
        "  seconds = int(seconds.group(1)) if seconds else 0\n",
        "\n",
        "  video_seconds = timedelta(\n",
        "      hours=hours,\n",
        "      minutes=minutes,\n",
        "      seconds=seconds).total_seconds()\n",
        "  \n",
        "  print(video_seconds)"
      ],
      "execution_count": 15,
      "outputs": [
        {
          "output_type": "stream",
          "name": "stdout",
          "text": [
            "843.0\n",
            "983.0\n",
            "3028.0\n",
            "499.0\n",
            "449.0\n"
          ]
        }
      ]
    },
    {
      "cell_type": "markdown",
      "metadata": {
        "id": "U8twlwkHCh8T"
      },
      "source": [
        "# **To check for all the pages available in that playlist**"
      ]
    },
    {
      "cell_type": "code",
      "metadata": {
        "colab": {
          "base_uri": "https://localhost:8080/"
        },
        "id": "0C0ibscZCi9L",
        "outputId": "5b83baf3-540e-4429-f59b-de1e0325a1a1"
      },
      "source": [
        "total_seconds = 0\n",
        "\n",
        "\n",
        "nextPageToken = None\n",
        "while True:\n",
        "    pl_request = youtube.playlistItems().list(\n",
        "        part='contentDetails',\n",
        "        playlistId=\"PLZoTAELRMXVPGU70ZGsckrMdr0FteeRUi\",\n",
        "        maxResults=50,\n",
        "        pageToken=nextPageToken\n",
        "    )\n",
        "\n",
        "    pl_response = pl_request.execute()\n",
        "\n",
        "    vid_ids = []\n",
        "    for item in pl_response['items']:\n",
        "        vid_ids.append(item['contentDetails']['videoId'])\n",
        "\n",
        "    vid_request = youtube.videos().list(\n",
        "        part=\"contentDetails\",\n",
        "        id=','.join(vid_ids)\n",
        "    )\n",
        "\n",
        "    vid_response = vid_request.execute()\n",
        "\n",
        "    for item in vid_response['items']:\n",
        "        duration = item['contentDetails']['duration']\n",
        "\n",
        "        hours = hours_pattern.search(duration)\n",
        "        minutes = minutes_pattern.search(duration)\n",
        "        seconds = seconds_pattern.search(duration)\n",
        "\n",
        "        hours = int(hours.group(1)) if hours else 0\n",
        "        minutes = int(minutes.group(1)) if minutes else 0\n",
        "        seconds = int(seconds.group(1)) if seconds else 0\n",
        "\n",
        "        video_seconds = timedelta(\n",
        "            hours=hours,\n",
        "            minutes=minutes,\n",
        "            seconds=seconds\n",
        "        ).total_seconds()\n",
        "\n",
        "        total_seconds += video_seconds\n",
        "\n",
        "        print(video_seconds)\n",
        "        print()\n",
        "       \n",
        "\n",
        "    nextPageToken = pl_response.get('nextPageToken')\n",
        "\n",
        "    if not nextPageToken:\n",
        "        break\n",
        " \n",
        "print(f'Total seconds: {total_seconds}')"
      ],
      "execution_count": 16,
      "outputs": [
        {
          "output_type": "stream",
          "name": "stdout",
          "text": [
            "843.0\n",
            "\n",
            "983.0\n",
            "\n",
            "3028.0\n",
            "\n",
            "499.0\n",
            "\n",
            "449.0\n",
            "\n",
            "361.0\n",
            "\n",
            "568.0\n",
            "\n",
            "861.0\n",
            "\n",
            "828.0\n",
            "\n",
            "876.0\n",
            "\n",
            "671.0\n",
            "\n",
            "696.0\n",
            "\n",
            "743.0\n",
            "\n",
            "2328.0\n",
            "\n",
            "782.0\n",
            "\n",
            "742.0\n",
            "\n",
            "849.0\n",
            "\n",
            "795.0\n",
            "\n",
            "802.0\n",
            "\n",
            "572.0\n",
            "\n",
            "6115.0\n",
            "\n",
            "6152.0\n",
            "\n",
            "1486.0\n",
            "\n",
            "1164.0\n",
            "\n",
            "639.0\n",
            "\n",
            "1165.0\n",
            "\n",
            "402.0\n",
            "\n",
            "664.0\n",
            "\n",
            "476.0\n",
            "\n",
            "670.0\n",
            "\n",
            "397.0\n",
            "\n",
            "459.0\n",
            "\n",
            "424.0\n",
            "\n",
            "1659.0\n",
            "\n",
            "899.0\n",
            "\n",
            "613.0\n",
            "\n",
            "654.0\n",
            "\n",
            "450.0\n",
            "\n",
            "343.0\n",
            "\n",
            "1170.0\n",
            "\n",
            "1408.0\n",
            "\n",
            "910.0\n",
            "\n",
            "1085.0\n",
            "\n",
            "865.0\n",
            "\n",
            "1312.0\n",
            "\n",
            "2193.0\n",
            "\n",
            "474.0\n",
            "\n",
            "1081.0\n",
            "\n",
            "802.0\n",
            "\n",
            "1831.0\n",
            "\n",
            "1156.0\n",
            "\n",
            "669.0\n",
            "\n",
            "3825.0\n",
            "\n",
            "5850.0\n",
            "\n",
            "5747.0\n",
            "\n",
            "4764.0\n",
            "\n",
            "1466.0\n",
            "\n",
            "1397.0\n",
            "\n",
            "1419.0\n",
            "\n",
            "858.0\n",
            "\n",
            "1298.0\n",
            "\n",
            "777.0\n",
            "\n",
            "936.0\n",
            "\n",
            "469.0\n",
            "\n",
            "788.0\n",
            "\n",
            "984.0\n",
            "\n",
            "948.0\n",
            "\n",
            "398.0\n",
            "\n",
            "1680.0\n",
            "\n",
            "600.0\n",
            "\n",
            "330.0\n",
            "\n",
            "1530.0\n",
            "\n",
            "1095.0\n",
            "\n",
            "612.0\n",
            "\n",
            "510.0\n",
            "\n",
            "528.0\n",
            "\n",
            "504.0\n",
            "\n",
            "2828.0\n",
            "\n",
            "474.0\n",
            "\n",
            "549.0\n",
            "\n",
            "518.0\n",
            "\n",
            "649.0\n",
            "\n",
            "375.0\n",
            "\n",
            "901.0\n",
            "\n",
            "3771.0\n",
            "\n",
            "726.0\n",
            "\n",
            "Total seconds: 108167.0\n"
          ]
        }
      ]
    },
    {
      "cell_type": "markdown",
      "metadata": {
        "id": "lq5Fz0naCopD"
      },
      "source": [
        "# **Converting the seconds to standard time format**"
      ]
    },
    {
      "cell_type": "code",
      "metadata": {
        "id": "ryTdmz2KCpzL",
        "outputId": "5ff24d14-998e-492f-f8ea-19d309a5aa4b",
        "colab": {
          "base_uri": "https://localhost:8080/"
        }
      },
      "source": [
        "total_seconds = int(total_seconds)\n",
        "\n",
        "minutes, seconds = divmod(total_seconds, 60)\n",
        "hours, minutes = divmod(minutes, 60)\n",
        "\n",
        "print(f'{hours}H {minutes}M {seconds}S')"
      ],
      "execution_count": 17,
      "outputs": [
        {
          "output_type": "stream",
          "name": "stdout",
          "text": [
            "30H 2M 47S\n"
          ]
        }
      ]
    }
  ]
}